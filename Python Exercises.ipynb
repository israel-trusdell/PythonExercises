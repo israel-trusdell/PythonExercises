{
 "cells": [
  {
   "cell_type": "markdown",
   "id": "0b1cb1a6",
   "metadata": {},
   "source": [
    "1. Write a string index that returns just the letter 'r'  from 'Hello World' ."
   ]
  },
  {
   "cell_type": "code",
   "execution_count": 3,
   "id": "86399d34",
   "metadata": {},
   "outputs": [
    {
     "data": {
      "text/plain": [
       "'r'"
      ]
     },
     "execution_count": 3,
     "metadata": {},
     "output_type": "execute_result"
    }
   ],
   "source": [
    "str = 'Hello World'\n",
    "str[8]"
   ]
  },
  {
   "cell_type": "markdown",
   "id": "3d7b3dc6",
   "metadata": {},
   "source": [
    "2. Use string slicing to grab the word 'ink'  from inside 'tinker‘\n"
   ]
  },
  {
   "cell_type": "code",
   "execution_count": 5,
   "id": "e08ea7e9",
   "metadata": {},
   "outputs": [
    {
     "data": {
      "text/plain": [
       "'ink'"
      ]
     },
     "execution_count": 5,
     "metadata": {},
     "output_type": "execute_result"
    }
   ],
   "source": [
    "str ='tinker'\n",
    "str[1:4]"
   ]
  },
  {
   "cell_type": "markdown",
   "id": "43356244",
   "metadata": {},
   "source": [
    "3. Write an expression using any of the string formatting methods we have learned to return the phrase 'Python rules!‘\n"
   ]
  },
  {
   "cell_type": "code",
   "execution_count": 6,
   "id": "4687b86a",
   "metadata": {},
   "outputs": [
    {
     "data": {
      "text/plain": [
       "'Python rules!'"
      ]
     },
     "execution_count": 6,
     "metadata": {},
     "output_type": "execute_result"
    }
   ],
   "source": [
    "'{} {}'.format(\"Python\",'rules!')"
   ]
  },
  {
   "cell_type": "code",
   "execution_count": 8,
   "id": "3235b76b",
   "metadata": {},
   "outputs": [
    {
     "data": {
      "text/plain": [
       "'Python rules!'"
      ]
     },
     "execution_count": 8,
     "metadata": {},
     "output_type": "execute_result"
    }
   ],
   "source": [
    "a='Python'\n",
    "b='rules!'\n",
    "f'{a} {b}'"
   ]
  },
  {
   "cell_type": "markdown",
   "id": "972614c4",
   "metadata": {},
   "source": [
    "4. Create a list that contains at least one string, one integer and one float.\n"
   ]
  },
  {
   "cell_type": "code",
   "execution_count": 10,
   "id": "61b1a300",
   "metadata": {},
   "outputs": [
    {
     "name": "stdout",
     "output_type": "stream",
     "text": [
      "['name', 23, 2.14159]\n"
     ]
    }
   ],
   "source": [
    "str=['name',23,2.14159]\n",
    "print(str)"
   ]
  },
  {
   "cell_type": "markdown",
   "id": "0c551916",
   "metadata": {},
   "source": [
    "5. Create a dictionary where all the keys are strings, and all the values are integers.\n"
   ]
  },
  {
   "cell_type": "code",
   "execution_count": 12,
   "id": "e6cf03eb",
   "metadata": {},
   "outputs": [],
   "source": [
    "diction= {'k1':1,'k2':2,'k3':3}"
   ]
  },
  {
   "cell_type": "markdown",
   "id": "e50c795e",
   "metadata": {},
   "source": [
    "6. Write an expression that would turn the string 'Mississippi'  into a set of unique letters.\n"
   ]
  },
  {
   "cell_type": "code",
   "execution_count": 13,
   "id": "7e0924d2",
   "metadata": {},
   "outputs": [
    {
     "data": {
      "text/plain": [
       "{'M', 'i', 'p', 's'}"
      ]
     },
     "execution_count": 13,
     "metadata": {},
     "output_type": "execute_result"
    }
   ],
   "source": [
    "set('Mississippi')"
   ]
  },
  {
   "cell_type": "markdown",
   "id": "6d55bbd9",
   "metadata": {},
   "source": [
    "7. Write a script that opens a file named 'test.txt' , writes 'Hello World'  to the file, then closes it.\n",
    "\n"
   ]
  },
  {
   "cell_type": "code",
   "execution_count": 16,
   "id": "e3c43243",
   "metadata": {},
   "outputs": [],
   "source": [
    "myfile=open('myfile.txt','w+')\n",
    "myfile.write('Hello World')\n",
    "myfile.close()"
   ]
  },
  {
   "cell_type": "markdown",
   "id": "2883304b",
   "metadata": {},
   "source": [
    "Functions:\n",
    "\n",
    "9. Write a function called myfunc that prints the string 'Hello World'.\n",
    "\n",
    "\n",
    "\n"
   ]
  },
  {
   "cell_type": "code",
   "execution_count": 19,
   "id": "03714f8d",
   "metadata": {},
   "outputs": [
    {
     "name": "stdout",
     "output_type": "stream",
     "text": [
      "Hello World\n"
     ]
    }
   ],
   "source": [
    "def myfunc():\n",
    "    print('Hello World')\n",
    "    \n",
    "myfunc()"
   ]
  },
  {
   "cell_type": "markdown",
   "id": "735132d9",
   "metadata": {},
   "source": [
    "10.  Define a function called myfunc that takes in a name, and prints 'Hello Name‘\n"
   ]
  },
  {
   "cell_type": "code",
   "execution_count": 20,
   "id": "dd4b0e9e",
   "metadata": {},
   "outputs": [
    {
     "name": "stdout",
     "output_type": "stream",
     "text": [
      "Hello Batman\n"
     ]
    }
   ],
   "source": [
    "def myfunc(name):\n",
    "    print(f'Hello {name}')\n",
    "myfunc('Batman')"
   ]
  },
  {
   "cell_type": "markdown",
   "id": "5223965c",
   "metadata": {},
   "source": [
    "11. Define a function called myfunc that takes in a Boolean value (True or False). If True, return 'Hello', and if False, return 'Goodbye‘\n"
   ]
  },
  {
   "cell_type": "code",
   "execution_count": 22,
   "id": "1b4159d6",
   "metadata": {},
   "outputs": [
    {
     "data": {
      "text/plain": [
       "False"
      ]
     },
     "execution_count": 22,
     "metadata": {},
     "output_type": "execute_result"
    }
   ],
   "source": [
    "def func(val):\n",
    "    if val == 1:\n",
    "        return True\n",
    "    else:\n",
    "        return False\n",
    "func(False)"
   ]
  },
  {
   "cell_type": "markdown",
   "id": "d63fd8cc",
   "metadata": {},
   "source": [
    "12. Define a function called myfunc that takes three arguments, x, y and z.If z is True, return x.  If z is False, return y.\n"
   ]
  },
  {
   "cell_type": "code",
   "execution_count": 25,
   "id": "8f466761",
   "metadata": {},
   "outputs": [
    {
     "name": "stdout",
     "output_type": "stream",
     "text": [
      "2\n",
      "4\n"
     ]
    }
   ],
   "source": [
    "def myfunc(x,y,z):\n",
    "    if z== True:\n",
    "        return x\n",
    "    elif z == False:\n",
    "        return y\n",
    "print(myfunc(2,4,True))\n",
    "print(myfunc(2,4,False))"
   ]
  },
  {
   "cell_type": "markdown",
   "id": "615a438d",
   "metadata": {},
   "source": [
    "13. Define a function called myfunc that takes in two arguments and returns their sum.\n"
   ]
  },
  {
   "cell_type": "code",
   "execution_count": 27,
   "id": "ae99a53b",
   "metadata": {},
   "outputs": [
    {
     "data": {
      "text/plain": [
       "9"
      ]
     },
     "execution_count": 27,
     "metadata": {},
     "output_type": "execute_result"
    }
   ],
   "source": [
    "def myfunc(a,b):\n",
    "    return a+b\n",
    "myfunc(5,4)"
   ]
  },
  {
   "cell_type": "markdown",
   "id": "047f87b3",
   "metadata": {},
   "source": [
    "14. Define a function called is_even that takes in one argument, and returns True if the passed-in value is even, False if it is not.\n"
   ]
  },
  {
   "cell_type": "code",
   "execution_count": 31,
   "id": "23b0aa87",
   "metadata": {},
   "outputs": [
    {
     "data": {
      "text/plain": [
       "True"
      ]
     },
     "execution_count": 31,
     "metadata": {},
     "output_type": "execute_result"
    }
   ],
   "source": [
    "def is_even(num):\n",
    "    if num%2==0:\n",
    "        return True\n",
    "    else:\n",
    "        return False\n",
    "    \n",
    "is_even(4)"
   ]
  },
  {
   "cell_type": "markdown",
   "id": "3cb77213",
   "metadata": {},
   "source": [
    "15. Define a function called is_greater that takes in two arguments, and returns True if the first value is greater than the second, False if it is less than or equal to the second.\n"
   ]
  },
  {
   "cell_type": "code",
   "execution_count": 32,
   "id": "2a3d34e3",
   "metadata": {},
   "outputs": [
    {
     "name": "stdout",
     "output_type": "stream",
     "text": [
      "False\n",
      "True\n"
     ]
    }
   ],
   "source": [
    "def is_greater(a,b):\n",
    "    if a>b:\n",
    "        return True\n",
    "    else:\n",
    "        return False\n",
    "print(is_greater(2,3))\n",
    "print(is_greater(10,5))"
   ]
  },
  {
   "cell_type": "markdown",
   "id": "4cce6b93",
   "metadata": {},
   "source": [
    "16. Define a function called myfunc that takes in an arbitrary number of arguments, and returns the sum of those arguments.\n"
   ]
  },
  {
   "cell_type": "code",
   "execution_count": 33,
   "id": "1f6fc9d0",
   "metadata": {},
   "outputs": [
    {
     "data": {
      "text/plain": [
       "29"
      ]
     },
     "execution_count": 33,
     "metadata": {},
     "output_type": "execute_result"
    }
   ],
   "source": [
    "def myfunc(*args):\n",
    "    return  sum(args)\n",
    "\n",
    "myfunc(1,2,3,4,5,6,8)"
   ]
  },
  {
   "cell_type": "markdown",
   "id": "967d6821",
   "metadata": {},
   "source": [
    "17. Define a function called myfunc that takes in an arbitrary number of arguments, and returns a list containing only those arguments that are even.\n"
   ]
  },
  {
   "cell_type": "code",
   "execution_count": 35,
   "id": "99b43b61",
   "metadata": {},
   "outputs": [
    {
     "data": {
      "text/plain": [
       "[2, 4, 6, 8, 4, 6, 74, 88, 764]"
      ]
     },
     "execution_count": 35,
     "metadata": {},
     "output_type": "execute_result"
    }
   ],
   "source": [
    "def myfunc(*args):\n",
    "    even=[]\n",
    "    for arg in args:\n",
    "        if arg%2==0:\n",
    "            even.append(arg)         \n",
    "    return even\n",
    "myfunc(1,2,3,4,5,6,7,8,4,6,74,88,764,)\n",
    "    "
   ]
  },
  {
   "cell_type": "markdown",
   "id": "f9bd729d",
   "metadata": {},
   "source": [
    "18. Define a function called myfunc that takes in a string, and returns a matching string where every even letter is uppercase, and every odd letter is lowercase. Assume that the incoming string only contains letters, and don't worry about numbers, spaces or punctuation. The output string can start with either an uppercase or lowercase letter, so long as letters \n"
   ]
  },
  {
   "cell_type": "code",
   "execution_count": 39,
   "id": "51b0f1b8",
   "metadata": {},
   "outputs": [
    {
     "name": "stdout",
     "output_type": "stream",
     "text": [
      "I Am tHe bAtMaN!\n"
     ]
    }
   ],
   "source": [
    "def myfunc(str1):\n",
    "    newstr = \"\"\n",
    "    for x,letter in enumerate(str1):\n",
    "        if x%2==0:\n",
    "            newstr += letter.upper()\n",
    "        else:\n",
    "            newstr += letter.lower()\n",
    "    return newstr\n",
    "print(myfunc('I am the Batman!'))\n",
    "            "
   ]
  },
  {
   "cell_type": "code",
   "execution_count": 40,
   "id": "069071bb",
   "metadata": {},
   "outputs": [
    {
     "name": "stdout",
     "output_type": "stream",
     "text": [
      "I Am tHe bAtMaN!\n"
     ]
    }
   ],
   "source": [
    "def myfunc(str1):\n",
    "    newstr = \"\"\n",
    "    for i in range(len(str1)):\n",
    "        if i%2==0:\n",
    "            newstr += str1[i].upper()\n",
    "        else:\n",
    "            newstr += str1[i].lower()\n",
    "    return newstr\n",
    "print(myfunc('I am the Batman!'))"
   ]
  },
  {
   "cell_type": "code",
   "execution_count": null,
   "id": "3efd1ca4",
   "metadata": {},
   "outputs": [],
   "source": []
  }
 ],
 "metadata": {
  "kernelspec": {
   "display_name": "Python 3 (ipykernel)",
   "language": "python",
   "name": "python3"
  },
  "language_info": {
   "codemirror_mode": {
    "name": "ipython",
    "version": 3
   },
   "file_extension": ".py",
   "mimetype": "text/x-python",
   "name": "python",
   "nbconvert_exporter": "python",
   "pygments_lexer": "ipython3",
   "version": "3.9.13"
  }
 },
 "nbformat": 4,
 "nbformat_minor": 5
}
